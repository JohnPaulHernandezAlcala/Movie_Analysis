{
 "cells": [
  {
   "cell_type": "markdown",
   "metadata": {},
   "source": [
    "# Film Industry Analysis & Insights: Table of Content"
   ]
  },
  {
   "cell_type": "markdown",
   "metadata": {},
   "source": [
    "_______________________________________________________________________________________________________________________________"
   ]
  },
  {
   "cell_type": "markdown",
   "metadata": {},
   "source": [
    "## 1  [Movie Budget Data from The Numbers](./MovieBudgetData.ipynb) "
   ]
  },
  {
   "cell_type": "markdown",
   "metadata": {},
   "source": [
    "### 1.1  [Libraries Used](./MovieBudgetData.ipynb#Libraries-used)"
   ]
  },
  {
   "cell_type": "markdown",
   "metadata": {},
   "source": [
    "### 1.2  [Importing Budget Data](./MovieBudgetData.ipynb#Movie-Budget-Data)"
   ]
  },
  {
   "cell_type": "markdown",
   "metadata": {},
   "source": [
    "### 1.3  [Data Cleaning and Wrangling](./MovieBudgetData.ipynb#Data-Cleaning-and-Wrangling)"
   ]
  },
  {
   "cell_type": "markdown",
   "metadata": {},
   "source": [
    "### 1.4  [Resources](./MovieBudgetData.ipynb#Resources-used-for-development:)"
   ]
  },
  {
   "cell_type": "markdown",
   "metadata": {},
   "source": [
    "## 2  [Analysis of the Movie Budget Data](./MovieBudgetAnalysis.ipynb)"
   ]
  },
  {
   "cell_type": "markdown",
   "metadata": {},
   "source": [
    "### 2.1  [Libraries Used](./MovieBudgetAnalysis.ipynb#Libraries-used)"
   ]
  },
  {
   "cell_type": "markdown",
   "metadata": {},
   "source": [
    "### 2.2  [Import Cleaned Budget Data](./MovieBudgetAnalysis.ipynb#Import-Cleaned-Budget-Data)"
   ]
  },
  {
   "cell_type": "markdown",
   "metadata": {},
   "source": [
    "### 2.3  [Calculation of Return On Investment (R.O.I.)](./MovieBudgetAnalysis.ipynb#Return-On-Investment-(R.O.I.))"
   ]
  },
  {
   "cell_type": "markdown",
   "metadata": {},
   "source": [
    "### 2.4  [Breaking Down Release Date By Year, Season, Month, and Day](./MovieBudgetAnalysis.ipynb#Breaking-Down-Release-Date-By-Year,-Season,-Month,-and-Day)"
   ]
  },
  {
   "cell_type": "markdown",
   "metadata": {},
   "source": [
    "#### 2.4.1  [Scatter Plot of Worldwide R.O.I.](./MovieBudgetAnalysis.ipynb#Scatter-Plot-of-Worldwide-R.O.I.)"
   ]
  },
  {
   "cell_type": "markdown",
   "metadata": {},
   "source": [
    "#### 2.4.2  [Box Plot of Worldwide R.O.I.](./MovieBudgetAnalysis.ipynb#Box-Plot-of-Worldwide-R.O.I.)"
   ]
  },
  {
   "cell_type": "markdown",
   "metadata": {},
   "source": [
    "#### 2.4.3  [Bar Graph of Movies Released Based on Season](./MovieBudgetAnalysis.ipynb#Bar-Graph-of-Movies-Released-Based-on-Season)"
   ]
  },
  {
   "cell_type": "markdown",
   "metadata": {},
   "source": [
    "#### 2.4.4  [Box Plot of Release Season Vs. Worldwide R.O.I.](./MovieBudgetAnalysis.ipynb#Box-Plot-and-Violin-Plot-of-Release-Season-Vs.-Worldwide-R.O.I.)"
   ]
  },
  {
   "cell_type": "markdown",
   "metadata": {},
   "source": [
    "#### 2.4.5  [Bar Graph and Box Plot of of Selected Release Months](./MovieBudgetAnalysis.ipynb#Bar-Graph-and-Box-Plot-of-Selected-Release-Months)"
   ]
  },
  {
   "cell_type": "markdown",
   "metadata": {},
   "source": [
    "#### 2.4.6  [Box Plot and Violin Plot of Selected Release Months](./MovieBudgetAnalysis.ipynb#Box-Plot-and-Violin-Plot-of-Selected-Release-Months)"
   ]
  },
  {
   "cell_type": "markdown",
   "metadata": {},
   "source": [
    "#### 2.4.7  [Bar Graph and Box Plot of Selected Release Days Within the Selected Release Months](./MovieBudgetAnalysis.ipynb#Bar-Graph-and-Box-Plot-of-Selected-Release-Days-Within-the-Selected-Release-Months)"
   ]
  },
  {
   "cell_type": "markdown",
   "metadata": {},
   "source": [
    "#### 2.4.8  [Box Plot and Violin Plot of Selected Release Days Within the Selected Release Months](./MovieBudgetAnalysis.ipynb#Box-Plot-and-Violin-Plot-of-Selected-Release-Days-Within-the-Selected-Release-Months)"
   ]
  },
  {
   "cell_type": "markdown",
   "metadata": {},
   "source": [
    "### 2.5  [Resources](./MovieBudgetAnalysis.ipynb#Resources-used-for-development:)"
   ]
  },
  {
   "cell_type": "markdown",
   "metadata": {},
   "source": [
    "## 3  [OMDb API and Data Acquisition.ipynb](./OMDb_Data.ipynb)"
   ]
  },
  {
   "cell_type": "markdown",
   "metadata": {},
   "source": [
    "### 3.1  [Libraries Used](./OMDb_Data.ipynb#Libraries-used)"
   ]
  },
  {
   "cell_type": "markdown",
   "metadata": {},
   "source": [
    "### 3.2  [Import Cleaned Budget Data](./OMDb_Data.ipynb#Import-Cleaned-Budget-Data)"
   ]
  },
  {
   "cell_type": "markdown",
   "metadata": {},
   "source": [
    "### 3.3  [OMDb API Usage](./OMDb_Data.ipynb#OMDb-API-Usuage)"
   ]
  },
  {
   "cell_type": "markdown",
   "metadata": {},
   "source": [
    "#### 3.3.1  [Get API Key for OMDb, Set Key as Default, and Request Data From OMDb API ](./OMDb_Data.ipynb#Get-API-Key-for-OMDb,-Set-Key-as-Default,-and-Request-Data-From-OMDb-API)"
   ]
  },
  {
   "cell_type": "markdown",
   "metadata": {},
   "source": [
    "### 3.4  [Clean and Export OMDb Data](./OMDb_Data.ipynb#Clean-and-Export-OMDb-Data)"
   ]
  },
  {
   "cell_type": "markdown",
   "metadata": {},
   "source": [
    "### 3.5  [Resources](./OMDb_Data.ipynb#Resources-used-for-development:)"
   ]
  },
  {
   "cell_type": "markdown",
   "metadata": {},
   "source": [
    "## 4  [OMDb and R.O.I. Data Analysis](./OMDbBudgetDataAnalysis.ipynb)"
   ]
  },
  {
   "cell_type": "markdown",
   "metadata": {},
   "source": [
    "### 4.1  [Libraries Used](./OMDbBudgetDataAnalysis.ipynb#Libraries-used)"
   ]
  },
  {
   "cell_type": "markdown",
   "metadata": {},
   "source": [
    "### 4.2  [Bringing in OMDb and R.O.I. Data to Join into One Dataset](./OMDbBudgetDataAnalysis.ipynb#Bringing-in-OMDb-and-R.O.I.-Data-to-Merge-into-One-Dataset)"
   ]
  },
  {
   "cell_type": "markdown",
   "metadata": {},
   "source": [
    "#### 4.2.1  [Movie Budget Data: R.O.I.](./OMDbBudgetDataAnalysis.ipynb#Movie-Budget-Data:-R.O.I.)"
   ]
  },
  {
   "cell_type": "markdown",
   "metadata": {},
   "source": [
    "#### 4.2.2  [OMDb Data](./OMDbBudgetDataAnalysis.ipynb#OMDb-Data)"
   ]
  },
  {
   "cell_type": "markdown",
   "metadata": {},
   "source": [
    "#### 4.2.3  [Combined Data](./OMDbBudgetDataAnalysis.ipynb#Combined-Data)"
   ]
  },
  {
   "cell_type": "markdown",
   "metadata": {},
   "source": [
    "### 4.3  [Genre Analysis](./OMDbBudgetDataAnalysis.ipynb#Genre-Analysis)"
   ]
  },
  {
   "cell_type": "markdown",
   "metadata": {},
   "source": [
    "#### 4.3.1  [Violin Plot of R.O.I.](./OMDbBudgetDataAnalysis.ipynb#Violin-Plot-of-R.O.I.)"
   ]
  },
  {
   "cell_type": "markdown",
   "metadata": {},
   "source": [
    "#### 4.3.2  [Bar Graph of Movie Genre Variations](./OMDbBudgetDataAnalysis.ipynb#Bar-Graph-of-Movie-Genre-Variations)"
   ]
  },
  {
   "cell_type": "markdown",
   "metadata": {},
   "source": [
    "#### 4.3.3  [Box Plots of Movie Genre Variations](./OMDbBudgetDataAnalysis.ipynb#Box-Plots-of-Movie-Genre-Variations)"
   ]
  },
  {
   "cell_type": "markdown",
   "metadata": {},
   "source": [
    "### 4.4  [MaturityRating Analysis](./OMDbBudgetDataAnalysis.ipynb#Maturity-Rating-Analysis)"
   ]
  },
  {
   "cell_type": "markdown",
   "metadata": {},
   "source": [
    "#### 4.4.1  [Bar Graph, Box Plot, and Violin Plot of Maturity Rating Vs. Worldwide R.O.I. and Number of Movies](./OMDbBudgetDataAnalysis.ipynb#Bar-Graph,-Box-Plot,-and-Violin-Plot-of-Maturity-Rating-Vs.-Worldwide-R.O.I.-and-Number-of-Movies)"
   ]
  },
  {
   "cell_type": "markdown",
   "metadata": {},
   "source": [
    "### 4.5  [Genre Analysis with Selected Maturity Ratings](./OMDbBudgetDataAnalysis.ipynb#Genre-Analysis-with-Selected-Maturity-Ratings)"
   ]
  },
  {
   "cell_type": "markdown",
   "metadata": {},
   "source": [
    "#### 4.5.1  [Bar Graph of Movie Genre with Selected Maturity Rating](./OMDbBudgetDataAnalysis.ipynb#Bar-Graph-of-Movie-Genre-with-Selected-Maturity-Rating)"
   ]
  },
  {
   "cell_type": "markdown",
   "metadata": {},
   "source": [
    "#### 4.5.2  [Box Plot of Movie Genre with Selected Maturity Rating](./OMDbBudgetDataAnalysis.ipynb#Box-Plot-of-Movie-Genre-with-Selected-Maturity-Rating)"
   ]
  },
  {
   "cell_type": "markdown",
   "metadata": {},
   "source": [
    "### 4.6  [Resources](./OMDbBudgetDataAnalysis.ipynb#Resources-used-for-development:)"
   ]
  }
 ],
 "metadata": {
  "celltoolbar": "Raw Cell Format",
  "kernelspec": {
   "display_name": "Python [conda env:learn-env] *",
   "language": "python",
   "name": "conda-env-learn-env-py"
  },
  "language_info": {
   "codemirror_mode": {
    "name": "ipython",
    "version": 3
   },
   "file_extension": ".py",
   "mimetype": "text/x-python",
   "name": "python",
   "nbconvert_exporter": "python",
   "pygments_lexer": "ipython3",
   "version": "3.6.9"
  },
  "toc": {
   "base_numbering": 1,
   "nav_menu": {
    "height": "70px",
    "width": "275.996px"
   },
   "number_sections": false,
   "sideBar": true,
   "skip_h1_title": true,
   "title_cell": "Table of Contents",
   "title_sidebar": "Contents",
   "toc_cell": false,
   "toc_position": {
    "height": "calc(100% - 180px)",
    "left": "10px",
    "top": "150px",
    "width": "481.973px"
   },
   "toc_section_display": true,
   "toc_window_display": false
  }
 },
 "nbformat": 4,
 "nbformat_minor": 2
}
